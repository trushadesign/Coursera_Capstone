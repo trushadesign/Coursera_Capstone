{
    "cells": [
        {
            "cell_type": "markdown",
            "metadata": {
                "collapsed": true
            },
            "source": "# The Battle of Neighborhoods (Week 1)"
        },
        {
            "cell_type": "markdown",
            "metadata": {},
            "source": "## \u27a4 Introduction / Business Problem"
        },
        {
            "cell_type": "markdown",
            "metadata": {},
            "source": "Lets say, some investor is looking to open a new restaurant in Toronto, Canada. Where should he open it? What type of restaurant should it be? Why?"
        },
        {
            "cell_type": "markdown",
            "metadata": {},
            "source": "## \u27a4 Data description (with data samples examples)"
        },
        {
            "cell_type": "markdown",
            "metadata": {},
            "source": "Will use:\n\n- Dataframe of the neighborhoods in Toronto (from wikipedia)\n\n<strong> This data is needed for getting neibourhoods and their geographical locations</strong>\n\n- Foursquare location data\n\n<strong> This data is needed for analysing and clustering venues in neibourhoods</strong>"
        },
        {
            "cell_type": "code",
            "execution_count": 3,
            "metadata": {},
            "outputs": [
                {
                    "data": {
                        "text/html": "<div>\n<style scoped>\n    .dataframe tbody tr th:only-of-type {\n        vertical-align: middle;\n    }\n\n    .dataframe tbody tr th {\n        vertical-align: top;\n    }\n\n    .dataframe thead th {\n        text-align: right;\n    }\n</style>\n<table border=\"1\" class=\"dataframe\">\n  <thead>\n    <tr style=\"text-align: right;\">\n      <th></th>\n      <th>PostalCode</th>\n      <th>Borough</th>\n      <th>Neighborhood</th>\n    </tr>\n  </thead>\n  <tbody>\n    <tr>\n      <th>0</th>\n      <td>None</td>\n      <td>None</td>\n      <td>None</td>\n    </tr>\n    <tr>\n      <th>1</th>\n      <td>M1A</td>\n      <td>Not assigned</td>\n      <td>Not assigned\\n</td>\n    </tr>\n    <tr>\n      <th>2</th>\n      <td>M2A</td>\n      <td>Not assigned</td>\n      <td>Not assigned\\n</td>\n    </tr>\n    <tr>\n      <th>3</th>\n      <td>M3A</td>\n      <td>North York</td>\n      <td>Parkwoods\\n</td>\n    </tr>\n    <tr>\n      <th>4</th>\n      <td>M4A</td>\n      <td>North York</td>\n      <td>Victoria Village\\n</td>\n    </tr>\n  </tbody>\n</table>\n</div>",
                        "text/plain": "  PostalCode       Borough        Neighborhood\n0       None          None                None\n1        M1A  Not assigned      Not assigned\\n\n2        M2A  Not assigned      Not assigned\\n\n3        M3A    North York         Parkwoods\\n\n4        M4A    North York  Victoria Village\\n"
                    },
                    "execution_count": 3,
                    "metadata": {},
                    "output_type": "execute_result"
                }
            ],
            "source": "# example of Dataframe of the neighborhoods in Toronto (from wikipedia) \n\nimport bs4 as bs\nimport urllib.request\n\nimport pandas as pd\nimport numpy as np\n\nsource = urllib.request.urlopen('https://en.wikipedia.org/wiki/List_of_postal_codes_of_Canada:_M').read()\nsoup = bs.BeautifulSoup(source,'lxml')\n\ntable = soup.find('table')\ntable_rows = table.find_all('tr')\n\nlist_rows = []\n\nfor tr in table_rows:\n    td = tr.find_all('td')\n    row = [i.text for i in td]\n    list_rows.append(row)\n#   print(row)\n    \n\ndf = pd.DataFrame(list_rows, columns = ['PostalCode','Borough','Neighborhood'])\ndf.head()"
        },
        {
            "cell_type": "code",
            "execution_count": 4,
            "metadata": {
                "scrolled": true
            },
            "outputs": [
                {
                    "name": "stdout",
                    "output_type": "stream",
                    "text": "Solving environment: done\n\n## Package Plan ##\n\n  environment location: /opt/conda/envs/Python36\n\n  added / updated specs: \n    - geopy\n\n\nThe following packages will be downloaded:\n\n    package                    |            build\n    ---------------------------|-----------------\n    geographiclib-1.50         |             py_0          34 KB  conda-forge\n    geopy-1.20.0               |             py_0          57 KB  conda-forge\n    openssl-1.1.1d             |       h516909a_0         2.1 MB  conda-forge\n    ca-certificates-2019.11.28 |       hecc5488_0         145 KB  conda-forge\n    certifi-2019.11.28         |           py36_0         149 KB  conda-forge\n    ------------------------------------------------------------\n                                           Total:         2.5 MB\n\nThe following NEW packages will be INSTALLED:\n\n    geographiclib:   1.50-py_0         conda-forge\n    geopy:           1.20.0-py_0       conda-forge\n\nThe following packages will be UPDATED:\n\n    ca-certificates: 2019.11.27-0                  --> 2019.11.28-hecc5488_0 conda-forge\n    certifi:         2019.11.28-py36_0             --> 2019.11.28-py36_0     conda-forge\n\nThe following packages will be DOWNGRADED:\n\n    openssl:         1.1.1d-h7b6447c_3             --> 1.1.1d-h516909a_0     conda-forge\n\n\nDownloading and Extracting Packages\ngeographiclib-1.50   | 34 KB     | ##################################### | 100% \ngeopy-1.20.0         | 57 KB     | ##################################### | 100% \nopenssl-1.1.1d       | 2.1 MB    | ##################################### | 100% \nca-certificates-2019 | 145 KB    | ##################################### | 100% \ncertifi-2019.11.28   | 149 KB    | ##################################### | 100% \nPreparing transaction: done\nVerifying transaction: done\nExecuting transaction: done\nSolving environment: done\n\n## Package Plan ##\n\n  environment location: /opt/conda/envs/Python36\n\n  added / updated specs: \n    - folium=0.5.0\n\n\nThe following packages will be downloaded:\n\n    package                    |            build\n    ---------------------------|-----------------\n    folium-0.5.0               |             py_0          45 KB  conda-forge\n    vincent-0.4.4              |             py_1          28 KB  conda-forge\n    branca-0.3.1               |             py_0          25 KB  conda-forge\n    altair-4.0.0               |             py_0         606 KB  conda-forge\n    ------------------------------------------------------------\n                                           Total:         704 KB\n\nThe following NEW packages will be INSTALLED:\n\n    altair:  4.0.0-py_0 conda-forge\n    branca:  0.3.1-py_0 conda-forge\n    folium:  0.5.0-py_0 conda-forge\n    vincent: 0.4.4-py_1 conda-forge\n\n\nDownloading and Extracting Packages\nfolium-0.5.0         | 45 KB     | ##################################### | 100% \nvincent-0.4.4        | 28 KB     | ##################################### | 100% \nbranca-0.3.1         | 25 KB     | ##################################### | 100% \naltair-4.0.0         | 606 KB    | ##################################### | 100% \nPreparing transaction: done\nVerifying transaction: done\nExecuting transaction: done\n"
                }
            ],
            "source": "# example of Foursquare location data\n\nimport pandas as pd # library for data analsysis\npd.set_option('display.max_columns', None)\npd.set_option('display.max_rows', None)\n\nimport json # library to handle JSON files\n\n!conda install -c conda-forge geopy --yes\nfrom geopy.geocoders import Nominatim # convert an address into latitude and longitude values\n\nimport requests # library to handle requests\nfrom pandas.io.json import json_normalize # tranform JSON file into a pandas dataframe\n\n# Matplotlib and associated plotting modules\nimport matplotlib.cm as cm\nimport matplotlib.colors as colors\n\n# import k-means from clustering stage\nfrom sklearn.cluster import KMeans\n\n!conda install -c conda-forge folium=0.5.0 --yes \nimport folium # map rendering library\n\n#print('Libraries imported.')"
        },
        {
            "cell_type": "code",
            "execution_count": 7,
            "metadata": {},
            "outputs": [
                {
                    "data": {
                        "text/html": "<div>\n<style scoped>\n    .dataframe tbody tr th:only-of-type {\n        vertical-align: middle;\n    }\n\n    .dataframe tbody tr th {\n        vertical-align: top;\n    }\n\n    .dataframe thead th {\n        text-align: right;\n    }\n</style>\n<table border=\"1\" class=\"dataframe\">\n  <thead>\n    <tr style=\"text-align: right;\">\n      <th></th>\n      <th>name</th>\n      <th>categories</th>\n      <th>lat</th>\n      <th>lng</th>\n    </tr>\n  </thead>\n  <tbody>\n    <tr>\n      <th>0</th>\n      <td>Downtown Toronto</td>\n      <td>Neighborhood</td>\n      <td>43.653232</td>\n      <td>-79.385296</td>\n    </tr>\n    <tr>\n      <th>1</th>\n      <td>Cafe Plenty</td>\n      <td>Caf\u00e9</td>\n      <td>43.654571</td>\n      <td>-79.389450</td>\n    </tr>\n    <tr>\n      <th>2</th>\n      <td>Japango</td>\n      <td>Sushi Restaurant</td>\n      <td>43.655268</td>\n      <td>-79.385165</td>\n    </tr>\n    <tr>\n      <th>3</th>\n      <td>Rolltation</td>\n      <td>Japanese Restaurant</td>\n      <td>43.654918</td>\n      <td>-79.387424</td>\n    </tr>\n    <tr>\n      <th>4</th>\n      <td>Sansotei Ramen \u4e09\u8349\u4ead</td>\n      <td>Ramen Restaurant</td>\n      <td>43.655157</td>\n      <td>-79.386501</td>\n    </tr>\n  </tbody>\n</table>\n</div>",
                        "text/plain": "                 name           categories        lat        lng\n0    Downtown Toronto         Neighborhood  43.653232 -79.385296\n1         Cafe Plenty                 Caf\u00e9  43.654571 -79.389450\n2             Japango     Sushi Restaurant  43.655268 -79.385165\n3          Rolltation  Japanese Restaurant  43.654918 -79.387424\n4  Sansotei Ramen \u4e09\u8349\u4ead     Ramen Restaurant  43.655157 -79.386501"
                    },
                    "execution_count": 7,
                    "metadata": {},
                    "output_type": "execute_result"
                }
            ],
            "source": "CLIENT_ID = '21EFHPTJZVPQQ4I5DOI0OVK144XB5HVY11HBKITGP1QLRYZV' # Foursquare ID\nCLIENT_SECRET = 'GZ5ECR3ECO3WU4DI0L0M0ASQBFIBNP0JNVCO55V2DGHAYZML' # Foursquare Secret\nVERSION = '20191228' # Foursquare API version\nLIMIT = 100 # limit of number of venues returned by Foursquare API\nradius = 800 # defining radius\nneighborhood_latitude = 43.653963  # neighborhood latitude value\nneighborhood_longitude = -79.387207 # neighborhood longitude value\n\nurl = 'https://api.foursquare.com/v2/venues/explore?&client_id={}&client_secret={}&v={}&ll={},{}&radius={}&limit={}'.format(\n    CLIENT_ID, \n    CLIENT_SECRET, \n    VERSION, \n    neighborhood_latitude, \n    neighborhood_longitude, \n    radius, \n    LIMIT)\n\nresults = requests.get(url).json() #getting venues data from Foursquare\n\n\n# function that extracts the category of the venue\ndef get_category_type(row):\n    try:\n        categories_list = row['categories']\n    except:\n        categories_list = row['venue.categories']\n        \n    if len(categories_list) == 0:\n        return None\n    else:\n        return categories_list[0]['name']\n \n\nvenues = results['response']['groups'][0]['items']\n    \nnearby_venues = json_normalize(venues) # flatten JSON\n\n# filter columns\nfiltered_columns = ['venue.name', 'venue.categories', 'venue.location.lat', 'venue.location.lng']\nnearby_venues =nearby_venues.loc[:, filtered_columns]\n\n# filter the category for each row\nnearby_venues['venue.categories'] = nearby_venues.apply(get_category_type, axis=1)\n\n# clean columns\nnearby_venues.columns = [col.split(\".\")[-1] for col in nearby_venues.columns]\n\nnearby_venues.head()"
        },
        {
            "cell_type": "code",
            "execution_count": null,
            "metadata": {},
            "outputs": [],
            "source": ""
        }
    ],
    "metadata": {
        "kernelspec": {
            "display_name": "Python 3.6",
            "language": "python",
            "name": "python3"
        },
        "language_info": {
            "codemirror_mode": {
                "name": "ipython",
                "version": 3
            },
            "file_extension": ".py",
            "mimetype": "text/x-python",
            "name": "python",
            "nbconvert_exporter": "python",
            "pygments_lexer": "ipython3",
            "version": "3.6.8"
        }
    },
    "nbformat": 4,
    "nbformat_minor": 1
}